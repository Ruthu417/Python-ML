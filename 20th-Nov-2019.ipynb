{
 "cells": [
  {
   "cell_type": "code",
   "execution_count": 11,
   "metadata": {},
   "outputs": [
    {
     "data": {
      "text/plain": [
       "dict"
      ]
     },
     "execution_count": 11,
     "metadata": {},
     "output_type": "execute_result"
    }
   ],
   "source": [
    "def addition(**a):\n",
    "    return type(a)\n",
    "addition(name='ruthu',subject='python')"
   ]
  },
  {
   "cell_type": "code",
   "execution_count": 12,
   "metadata": {},
   "outputs": [
    {
     "name": "stdout",
     "output_type": "stream",
     "text": [
      "\n"
     ]
    }
   ],
   "source": [
    "print()"
   ]
  },
  {
   "cell_type": "code",
   "execution_count": 33,
   "metadata": {},
   "outputs": [
    {
     "name": "stdout",
     "output_type": "stream",
     "text": [
      "<class 'dict'>\n",
      "name=ruthu\n",
      "subject=python\n"
     ]
    }
   ],
   "source": [
    "def addition(**a):\n",
    "    print(type(a))\n",
    "    for key,value in a.items():\n",
    "        print(key,value,sep=\"=\")\n",
    "addition(name='ruthu',subject='python')"
   ]
  },
  {
   "cell_type": "markdown",
   "metadata": {},
   "source": [
    "### Exception Handling"
   ]
  },
  {
   "cell_type": "code",
   "execution_count": null,
   "metadata": {},
   "outputs": [],
   "source": []
  },
  {
   "cell_type": "code",
   "execution_count": 32,
   "metadata": {},
   "outputs": [
    {
     "name": "stdout",
     "output_type": "stream",
     "text": [
      "5\n",
      "yy\n",
      "invalid literal for int() with base 10: 'yy'\n"
     ]
    }
   ],
   "source": [
    "try:\n",
    "    a=int(input())\n",
    "    b=int(input())\n",
    "\n",
    "except Exception as e:\n",
    "    print(e)"
   ]
  },
  {
   "cell_type": "code",
   "execution_count": 41,
   "metadata": {},
   "outputs": [
    {
     "name": "stdout",
     "output_type": "stream",
     "text": [
      "Enter a value:4\n",
      "Enter value:6\n",
      "Exception value is  12\n",
      "Thanks for the trail and it is the type error \n"
     ]
    }
   ],
   "source": [
    "try:\n",
    "    a=input(\"Enter a value:\")\n",
    "    b=5\n",
    "    c=a+b\n",
    "    print(\"try value is \",c)\n",
    "    \n",
    "except ValueError:\n",
    "    a=int(input(\"Enter a value\"))\n",
    "    b=5\n",
    "    c=a+b\n",
    "    print(\"value error is \",c)\n",
    "    \n",
    "except TypeError:\n",
    "    a=int(input(\"Enter value:\"))\n",
    "    b=6\n",
    "    c=a+b\n",
    "    print(\"Exception value is \",c)\n",
    "    \n",
    "finally:\n",
    "    print(\"Thanks for the trail and it is the type error \")"
   ]
  },
  {
   "cell_type": "code",
   "execution_count": 31,
   "metadata": {},
   "outputs": [
    {
     "name": "stdout",
     "output_type": "stream",
     "text": [
      "5\n",
      "7\n"
     ]
    }
   ],
   "source": []
  },
  {
   "cell_type": "code",
   "execution_count": 42,
   "metadata": {},
   "outputs": [
    {
     "name": "stdout",
     "output_type": "stream",
     "text": [
      "Enter a value:6\n",
      "try value is  0\n",
      "Thanks for the trail and it is the value error\n"
     ]
    }
   ],
   "source": [
    "try:\n",
    "    a=int(input(\"Enter a value:\"))\n",
    "    b=0\n",
    "    c=a*b\n",
    "    print(\"try value is \",c)\n",
    "except ValueError:\n",
    "    a=int(input(\"Enter a value\"))\n",
    "    b=0\n",
    "    c=a+b\n",
    "    print(\"value error is \",c)\n",
    "    \n",
    "except TypeError:\n",
    "    a=int(input(\"Enter value:\"))\n",
    "    b=6\n",
    "    c=a+b\n",
    "    print(\"Exception value is \",c)\n",
    "    \n",
    "finally:\n",
    "    print(\"Thanks for the trail and it is the value error\") "
   ]
  },
  {
   "cell_type": "code",
   "execution_count": null,
   "metadata": {},
   "outputs": [],
   "source": []
  },
  {
   "cell_type": "code",
   "execution_count": 40,
   "metadata": {},
   "outputs": [
    {
     "name": "stdout",
     "output_type": "stream",
     "text": [
      "Enter a value:4\n",
      "try value is  20\n",
      "input is correct\n",
      "Thanks for the trail\n"
     ]
    }
   ],
   "source": [
    "try:\n",
    "    a=int(input(\"Enter a value:\"))\n",
    "    b=5\n",
    "    c=a*b\n",
    "    print(\"try value is \",c)\n",
    "    \n",
    "except ValueError:\n",
    "    a=int(input(\"Enter a value\"))\n",
    "    b=0\n",
    "    c=a+b\n",
    "    print(\"value error is \",c)\n",
    "except TypeError:\n",
    "    a=int(input(\"Enter value:\"))\n",
    "    b=0\n",
    "    c=a+b\n",
    "    print(\"Exception value is \",c)\n",
    "    \n",
    "else:\n",
    "    print(\"input is correct\")\n",
    "    \n",
    "finally:\n",
    "    print(\"Thanks for the trail\") "
   ]
  },
  {
   "cell_type": "markdown",
   "metadata": {},
   "source": []
  }
 ],
 "metadata": {
  "kernelspec": {
   "display_name": "Python 3",
   "language": "python",
   "name": "python3"
  },
  "language_info": {
   "codemirror_mode": {
    "name": "ipython",
    "version": 3
   },
   "file_extension": ".py",
   "mimetype": "text/x-python",
   "name": "python",
   "nbconvert_exporter": "python",
   "pygments_lexer": "ipython3",
   "version": "3.7.4"
  }
 },
 "nbformat": 4,
 "nbformat_minor": 2
}
